{
  "nbformat": 4,
  "nbformat_minor": 0,
  "metadata": {
    "colab": {
      "provenance": [],
      "collapsed_sections": [],
      "mount_file_id": "1Jen2MZzyYWWYe02E0a9A0H_17k85Hj1q",
      "authorship_tag": "ABX9TyNz7utFQNzAZ59hPG1vLBLu"
    },
    "kernelspec": {
      "name": "python3",
      "display_name": "Python 3"
    }
  },
  "cells": [
    {
      "cell_type": "markdown",
      "source": [
        "### **Basic_python: by Azim Khan**"
      ],
      "metadata": {
        "id": "EnHearDFD9x0"
      }
    },
    {
      "cell_type": "code",
      "metadata": {
        "colab": {
          "base_uri": "https://localhost:8080/"
        },
        "id": "ht7ORhuskFHM",
        "outputId": "fcd6dc36-f464-4624-af98-3bb6abc9d338"
      },
      "source": [
        "list=[1,2,3,56,7,7,'azim'] # list alwys use square bracket\n",
        "print(list)"
      ],
      "execution_count": null,
      "outputs": [
        {
          "output_type": "stream",
          "text": [
            "[1, 2, 3, 56, 7, 7, 'azim']\n"
          ],
          "name": "stdout"
        }
      ]
    },
    {
      "cell_type": "code",
      "metadata": {
        "id": "9FEgZUAZkoHF"
      },
      "source": [
        "list.extend([1,4,5])"
      ],
      "execution_count": null,
      "outputs": []
    },
    {
      "cell_type": "code",
      "metadata": {
        "colab": {
          "base_uri": "https://localhost:8080/"
        },
        "id": "0bUKF5QWlNhP",
        "outputId": "285855e2-8f0c-4ca5-e511-09e080c60f62"
      },
      "source": [
        "list.remove(1)\n",
        "print(list)"
      ],
      "execution_count": null,
      "outputs": [
        {
          "output_type": "stream",
          "text": [
            "[2, 3, 56, 7, 7, 'azim', 1, 4, 5]\n"
          ],
          "name": "stdout"
        }
      ]
    },
    {
      "cell_type": "code",
      "metadata": {
        "colab": {
          "base_uri": "https://localhost:8080/"
        },
        "id": "yWHpVQVdlU7I",
        "outputId": "9c2f3eee-9457-4821-bd31-d87475a01e29"
      },
      "source": [
        "list.remove(list[0])\n",
        "print(list)"
      ],
      "execution_count": null,
      "outputs": [
        {
          "output_type": "stream",
          "text": [
            "[3, 56, 7, 7, 'azim', 1, 4, 5]\n"
          ],
          "name": "stdout"
        }
      ]
    },
    {
      "cell_type": "code",
      "metadata": {
        "colab": {
          "base_uri": "https://localhost:8080/"
        },
        "id": "ZgAtvzrCl0ar",
        "outputId": "821116e6-39ac-4368-dca3-b0429f2231a0"
      },
      "source": [
        "print(list.count(7))"
      ],
      "execution_count": null,
      "outputs": [
        {
          "output_type": "stream",
          "text": [
            "2\n"
          ],
          "name": "stdout"
        }
      ]
    },
    {
      "cell_type": "markdown",
      "metadata": {
        "id": "Qpnby_LtmbMD"
      },
      "source": [
        "## **tuple**\n",
        "#orderder that is unchangable"
      ]
    },
    {
      "cell_type": "code",
      "metadata": {
        "colab": {
          "base_uri": "https://localhost:8080/"
        },
        "id": "GHZXNKSNmMnm",
        "outputId": "bd29895e-6900-47ba-b02c-792f2aecc37d"
      },
      "source": [
        "tuple= (1,29,3, 4,56,7 )\n",
        "print(tuple)"
      ],
      "execution_count": null,
      "outputs": [
        {
          "output_type": "stream",
          "text": [
            "(1, 29, 3, 4, 56, 7)\n"
          ],
          "name": "stdout"
        }
      ]
    },
    {
      "cell_type": "code",
      "metadata": {
        "colab": {
          "base_uri": "https://localhost:8080/"
        },
        "id": "bIfRAUlknHbN",
        "outputId": "0b424461-3084-40f7-b7e7-012d3fd70cfb"
      },
      "source": [
        "import sys\n",
        "print('tuple', sys.getsizeof(tuple))\n",
        "print('list', sys.getsizeof(list))"
      ],
      "execution_count": null,
      "outputs": [
        {
          "output_type": "stream",
          "text": [
            "tuple 96\n",
            "list 120\n"
          ],
          "name": "stdout"
        }
      ]
    },
    {
      "cell_type": "code",
      "metadata": {
        "id": "4HIZUUc9nwtS"
      },
      "source": [
        "tuple.remove(1) # tuple can not remove, but list can do it. and use # del tuple to "
      ],
      "execution_count": null,
      "outputs": []
    },
    {
      "cell_type": "code",
      "metadata": {
        "colab": {
          "base_uri": "https://localhost:8080/"
        },
        "id": "KC1iz7pMoAoD",
        "outputId": "139c3c36-d4ca-40e0-b2db-14b044c9f0f4"
      },
      "source": [
        "#set, write in curly braket({}) and don't allow duplicate value\n",
        "se={2,4,6,6,2,6}\n",
        "print(se)"
      ],
      "execution_count": null,
      "outputs": [
        {
          "output_type": "stream",
          "text": [
            "{2, 4, 6}\n"
          ],
          "name": "stdout"
        }
      ]
    },
    {
      "cell_type": "code",
      "metadata": {
        "colab": {
          "base_uri": "https://localhost:8080/"
        },
        "id": "Hn_XUBWPom-m",
        "outputId": "a635c33e-c76a-421a-d326-d34256c8f611"
      },
      "source": [
        "se.update([8,9,10])\n",
        "print(se)"
      ],
      "execution_count": null,
      "outputs": [
        {
          "output_type": "stream",
          "text": [
            "{2, 4, 6, 8, 9, 10}\n"
          ],
          "name": "stdout"
        }
      ]
    },
    {
      "cell_type": "code",
      "metadata": {
        "colab": {
          "base_uri": "https://localhost:8080/"
        },
        "id": "J_W8BidqpYsW",
        "outputId": "a2f98660-c93d-4dd4-9297-9fed8de4d0fe"
      },
      "source": [
        "se.remove(2)\n",
        "print(se)"
      ],
      "execution_count": null,
      "outputs": [
        {
          "output_type": "stream",
          "text": [
            "{4, 6, 8, 9, 10}\n"
          ],
          "name": "stdout"
        }
      ]
    },
    {
      "cell_type": "code",
      "metadata": {
        "id": "IBMxQDf8pfLB"
      },
      "source": [
        "#set.remove(35), because 35 is not in the set\n",
        "#print(set)"
      ],
      "execution_count": null,
      "outputs": []
    },
    {
      "cell_type": "code",
      "metadata": {
        "colab": {
          "base_uri": "https://localhost:8080/"
        },
        "id": "Xa3Bm3ZxpkOS",
        "outputId": "a120c1ef-3a2b-4941-c93f-137ab3ee0e75"
      },
      "source": [
        "# now intersection in the set\n",
        "s1={4,5,63,6,1,3}\n",
        "s2={3,5,6,75,7}\n",
        "s3={2,5,6,7,8,9} \n",
        "s4=s1.intersection(s2)\n",
        "print(s4)"
      ],
      "execution_count": null,
      "outputs": [
        {
          "output_type": "stream",
          "text": [
            "{3, 5, 6}\n"
          ],
          "name": "stdout"
        }
      ]
    },
    {
      "cell_type": "code",
      "metadata": {
        "colab": {
          "base_uri": "https://localhost:8080/"
        },
        "id": "2OssCIM8qmAi",
        "outputId": "7bbd2c2d-d013-452f-880f-125aec52e098"
      },
      "source": [
        "print(s2.union(s1))\n",
        "print(s2.difference(s1))"
      ],
      "execution_count": null,
      "outputs": [
        {
          "output_type": "stream",
          "text": [
            "{1, 3, 4, 5, 6, 7, 75, 63}\n",
            "{75, 7}\n"
          ],
          "name": "stdout"
        }
      ]
    },
    {
      "cell_type": "code",
      "metadata": {
        "id": "Qbl90l1Jqz26"
      },
      "source": [
        "# how to convert list into set\n",
        "lis=[1,4,5,6,43,23,42,12,4,5,6,2,2]\n",
        "print(set(lis))\n",
        "\n"
      ],
      "execution_count": null,
      "outputs": []
    },
    {
      "cell_type": "code",
      "metadata": {
        "id": "bqNTZ55IuYni"
      },
      "source": [
        "# dictionary is a unorderd changable index, always use curly {}; key: value; key must be unique\n",
        "d={'name':\"azim\",'age': 27,'profession':'scientis', 'a':10, 10: 10 }\n",
        "print(d[10])"
      ],
      "execution_count": null,
      "outputs": []
    },
    {
      "cell_type": "code",
      "metadata": {
        "colab": {
          "base_uri": "https://localhost:8080/"
        },
        "id": "FhEfrXg2tzfE",
        "outputId": "bee361b1-b3e4-4d5e-fc8c-7c0a9b7c024a"
      },
      "source": [
        " dic={1:'ID', 2: 'name', 3: 'age', 4:'time'}\n",
        " print(dic)\n",
        "print(dic[1])\n",
        "print(dic.get(4))\n",
        "print(dic.keys())"
      ],
      "execution_count": null,
      "outputs": [
        {
          "output_type": "stream",
          "text": [
            "{1: 'ID', 2: 'name', 3: 'age', 4: 'time'}\n",
            "ID\n",
            "time\n",
            "dict_keys([1, 2, 3, 4])\n"
          ],
          "name": "stdout"
        }
      ]
    },
    {
      "cell_type": "code",
      "metadata": {
        "colab": {
          "base_uri": "https://localhost:8080/"
        },
        "id": "EjLJKV6z1wBg",
        "outputId": "2e9b999d-ecfb-4319-a313-b265535f3384"
      },
      "source": [
        "#nested dictionary\n",
        "student1={'1st':{1:'votar_ID', 2:'name', 3:'location'},\n",
        "          '2nd':{1:'name', 2:'age', 3:'sex'},\n",
        "          '3rd':{1:'mark', 2:'score'}\n",
        "} \n",
        "#print(student1)\n",
        "print(student1['2nd'])\n",
        "print(student1['3rd'][2])\n",
        "del student1['1st'][1]\n",
        "print(student1)\n",
        "#how to add keys\n",
        "student1['4th']={}\n",
        "student1['4th'][1]='name'\n",
        "student1['4th'][2]='age'\n",
        "student1['4th'][3]='male'\n",
        "print(student1)\n",
        "del student1['1st']\n",
        "print(student1)"
      ],
      "execution_count": null,
      "outputs": [
        {
          "output_type": "stream",
          "text": [
            "{1: 'name', 2: 'age', 3: 'sex'}\n",
            "score\n",
            "{'1st': {2: 'name', 3: 'location'}, '2nd': {1: 'name', 2: 'age', 3: 'sex'}, '3rd': {1: 'mark', 2: 'score'}}\n",
            "{'1st': {2: 'name', 3: 'location'}, '2nd': {1: 'name', 2: 'age', 3: 'sex'}, '3rd': {1: 'mark', 2: 'score'}, '4th': {1: 'name', 2: 'age', 3: 'male'}}\n",
            "{'2nd': {1: 'name', 2: 'age', 3: 'sex'}, '3rd': {1: 'mark', 2: 'score'}, '4th': {1: 'name', 2: 'age', 3: 'male'}}\n"
          ],
          "name": "stdout"
        }
      ]
    },
    {
      "cell_type": "code",
      "metadata": {
        "colab": {
          "base_uri": "https://localhost:8080/"
        },
        "id": "_OrssPVP4ky6",
        "outputId": "c6ecf435-86d5-4703-97b1-d16e1c2751f7"
      },
      "source": [
        "#Mathmatecial operator; if else or statement\n",
        "x=2\n",
        "y=89\n",
        "if y>x:\n",
        "  print('zim')\n",
        "elif y<x:\n",
        "   print('you')\n",
        "    \n"
      ],
      "execution_count": null,
      "outputs": [
        {
          "output_type": "stream",
          "text": [
            "zim\n"
          ],
          "name": "stdout"
        }
      ]
    },
    {
      "cell_type": "code",
      "metadata": {
        "colab": {
          "base_uri": "https://localhost:8080/"
        },
        "id": "MMOrtA818LXa",
        "outputId": "dfe60e8d-17d7-4948-92a0-be61bbe09294"
      },
      "source": [
        "num=int(input(\"any number= \"))\n",
        "if num<0:\n",
        "   print(\"number is negative\")\n",
        "elif num>0:\n",
        "   print(\"number is positive\")\n",
        "elif num==0:\n",
        "   print('number is zero')"
      ],
      "execution_count": null,
      "outputs": [
        {
          "output_type": "stream",
          "text": [
            "any number= 89\n",
            "number is positive\n"
          ],
          "name": "stdout"
        }
      ]
    },
    {
      "cell_type": "code",
      "metadata": {
        "id": "8HqHH7yXPvfM"
      },
      "source": [
        "#find out the maximum number bewteen three numbers\n",
        "x=int(input('enter a number'))\n",
        "y=int(input('enter a another number'))\n",
        "z=int(input('enter a next number'))\n",
        "if "
      ],
      "execution_count": null,
      "outputs": []
    },
    {
      "cell_type": "code",
      "metadata": {
        "colab": {
          "base_uri": "https://localhost:8080/"
        },
        "id": "LxtT4UfTgayA",
        "outputId": "b3e64069-50b5-4852-c670-cab350990858"
      },
      "source": [
        "# ternary operator and largest number find out using ternary operator9\n",
        "x=int(input('enter a number'))\n",
        "y=int(input('enter a another number'))\n",
        "z=int(input('enter a next number'))\n",
        "# print('yes' if True else )\n",
        "larx= x if x>y else y\n",
        "largest=larx if larx>z else z\n",
        "print(largest)"
      ],
      "execution_count": null,
      "outputs": [
        {
          "output_type": "stream",
          "text": [
            "enter a number67\n",
            "enter a another number89\n",
            "enter a next number5\n",
            "89\n"
          ],
          "name": "stdout"
        }
      ]
    },
    {
      "cell_type": "code",
      "metadata": {
        "colab": {
          "base_uri": "https://localhost:8080/"
        },
        "id": "sr-dWFhyg1m_",
        "outputId": "7f0d6a9d-8a89-4911-c86b-1a98be315de7"
      },
      "source": [
        "x= int(input('enter any number'))\n",
        "y= 'even' if x % 2==0 else 'odd'\n",
        "print(y)\n",
        "#swp two number\n",
        "a= 20\n",
        "b=40\n",
        "a=a+b;\n",
        "b=a-b;\n",
        "a=a-b;\n",
        "# a,b=b,a\n",
        "print(a,b)"
      ],
      "execution_count": null,
      "outputs": [
        {
          "output_type": "stream",
          "text": [
            "enter any number8\n",
            "even\n",
            "20 40\n"
          ],
          "name": "stdout"
        }
      ]
    },
    {
      "cell_type": "code",
      "metadata": {
        "colab": {
          "base_uri": "https://localhost:8080/"
        },
        "id": "cBJ9WBRfqhx5",
        "outputId": "f45cc9a4-391d-410e-f789-2b3ab7bbe4ef"
      },
      "source": [
        "def salariy(x):\n",
        "  assert x>0, \" salariy can not be negative\"\n",
        "  print(x)\n",
        "a=salariy(5000)"
      ],
      "execution_count": null,
      "outputs": [
        {
          "output_type": "stream",
          "text": [
            "5000\n"
          ],
          "name": "stdout"
        }
      ]
    },
    {
      "cell_type": "code",
      "metadata": {
        "colab": {
          "base_uri": "https://localhost:8080/"
        },
        "id": "-v32_EVCxnxi",
        "outputId": "2acedacb-51c9-4c60-9833-cd53ed277f31"
      },
      "source": [
        "import math\n",
        "x=25\n",
        "print(math.pow(x,2))\n",
        "print(math.sqrt(x))"
      ],
      "execution_count": null,
      "outputs": [
        {
          "output_type": "stream",
          "text": [
            "625.0\n",
            "5.0\n"
          ],
          "name": "stdout"
        }
      ]
    },
    {
      "cell_type": "code",
      "metadata": {
        "colab": {
          "base_uri": "https://localhost:8080/"
        },
        "id": "QolCvCpvyyKY",
        "outputId": "b9464b21-0ba6-4044-a3c0-e64d50e52c8d"
      },
      "source": [
        "#math can write in this way\n",
        "import math as m\n",
        "x= 25\n",
        "print(m.pow(x,2))"
      ],
      "execution_count": null,
      "outputs": [
        {
          "output_type": "stream",
          "text": [
            "625.0\n"
          ],
          "name": "stdout"
        }
      ]
    },
    {
      "cell_type": "code",
      "metadata": {
        "id": "FCN8D-JEzzI3"
      },
      "source": [
        "#help('sklearn'); this is very important to know the function in a liabray"
      ],
      "execution_count": null,
      "outputs": []
    },
    {
      "cell_type": "code",
      "metadata": {
        "id": "CxLnRXA10GbL"
      },
      "source": [
        "#for loop\n",
        "a=[3,4,5,6,4,60]\n",
        "total=0;\n",
        "for x in a:\n",
        "  total=total+x\n",
        "print(total)"
      ],
      "execution_count": null,
      "outputs": []
    },
    {
      "cell_type": "code",
      "metadata": {
        "colab": {
          "base_uri": "https://localhost:8080/"
        },
        "id": "Ikcwohky63Aj",
        "outputId": "649c1f11-7f07-4946-d215-b80fbe29e95c"
      },
      "source": [
        "dep=['cse','EEE','ME','civil']\n",
        "for a in dep:\n",
        "  print(a)"
      ],
      "execution_count": null,
      "outputs": [
        {
          "output_type": "stream",
          "text": [
            "cse\n",
            "EEE\n",
            "ME\n",
            "civil\n"
          ],
          "name": "stdout"
        }
      ]
    },
    {
      "cell_type": "code",
      "metadata": {
        "id": "NAmqo68N7RLO"
      },
      "source": [
        "total=0\n",
        "for i in range(1,11): # total 1 to 10 number summation; not 1 to 11; \n",
        "  total+=i\n",
        "print(total)"
      ],
      "execution_count": null,
      "outputs": []
    },
    {
      "cell_type": "code",
      "metadata": {
        "id": "aAjKc97k8JdV"
      },
      "source": [
        "# prime number check\n",
        "x=int(input('enter any number'))\n",
        "for y in range(2,x):\n",
        "  if(x % 2==0):\n",
        "    print('the number is prime')\n",
        "    break\n",
        "else:\n",
        "    print('the number is not prime')\n"
      ],
      "execution_count": null,
      "outputs": []
    },
    {
      "cell_type": "code",
      "metadata": {
        "id": "hgXqijUU-u2u"
      },
      "source": [
        "#while loop\n",
        "n=1\n",
        "while(n<11):\n",
        "  n=n+1\n",
        "  print('zim')\n"
      ],
      "execution_count": null,
      "outputs": []
    },
    {
      "cell_type": "code",
      "metadata": {
        "id": "E_XEvNOL-lnt"
      },
      "source": [
        "# in function must write def function_name(argument,argument): must write colon"
      ],
      "execution_count": null,
      "outputs": []
    },
    {
      "cell_type": "code",
      "metadata": {
        "id": "Pi3PW8-FvPck"
      },
      "source": [
        "# 0 1 1 2 3 5 8 13 21 34 55 89\n",
        "def fibo(x):\n",
        "  a=0\n",
        "  b=1\n",
        "  print(0)\n",
        "  print(1)\n",
        "  for i in range(2,x):\n",
        "    c=a+b\n",
        "    a=b\n",
        "    b=c\n",
        "    print(c)\n",
        "fibo(16)"
      ],
      "execution_count": null,
      "outputs": []
    },
    {
      "cell_type": "code",
      "metadata": {
        "id": "eJchAG-1xAez"
      },
      "source": [
        "#factorial find out using python using function\n",
        "def fact(x):\n",
        " ini=1\n",
        " for i in range(1, x+1):\n",
        "   ini=ini *i\n",
        " return ini\n",
        "result= fact(5)\n",
        "print(result)\n"
      ],
      "execution_count": null,
      "outputs": []
    },
    {
      "cell_type": "code",
      "metadata": {
        "colab": {
          "base_uri": "https://localhost:8080/"
        },
        "id": "aIe0K31g0AVC",
        "outputId": "620034d0-73ec-4254-97ed-831469ccac01"
      },
      "source": [
        "#without function\n",
        "n=int(input('enter any value'))\n",
        "f=1\n",
        "for i in range(1, n+1):\n",
        "  f=f*i\n",
        "print(f)  "
      ],
      "execution_count": null,
      "outputs": [
        {
          "output_type": "stream",
          "text": [
            "enter any value5\n",
            "120\n"
          ],
          "name": "stdout"
        }
      ]
    },
    {
      "cell_type": "code",
      "metadata": {
        "colab": {
          "base_uri": "https://localhost:8080/"
        },
        "id": "T_dg3TRc1a82",
        "outputId": "9e233af9-05a5-4675-8646-a6dd8a3d0034"
      },
      "source": [
        "# using another way\n",
        "import math\n",
        "n=5\n",
        "r=math.factorial(n)\n",
        "print(r)"
      ],
      "execution_count": null,
      "outputs": [
        {
          "output_type": "stream",
          "text": [
            "120\n"
          ],
          "name": "stdout"
        }
      ]
    },
    {
      "cell_type": "code",
      "metadata": {
        "id": "u3hL4VjL1o7I"
      },
      "source": [
        "# speacial symol in python; how can hndle type error'*arg by this you can take multiple argument\n",
        "def mul(*arg):\n",
        "  result= 1\n",
        "  for i in arg:\n",
        "    result= result * i\n",
        "  print(result)\n",
        "mul(3,4,5,5,6)"
      ],
      "execution_count": null,
      "outputs": []
    },
    {
      "cell_type": "code",
      "metadata": {
        "colab": {
          "base_uri": "https://localhost:8080/"
        },
        "id": "3XdxB3UY28Ep",
        "outputId": "4c569dc2-d949-4749-a5da-116f7d65696e"
      },
      "source": [
        "#keyword argument and non keyword argument \n",
        "def myself(age, **others):\n",
        "  print(age)\n",
        "  print(others)\n",
        "myself(23, name='azim', university='cuet',country='Bangladesh')"
      ],
      "execution_count": null,
      "outputs": [
        {
          "output_type": "stream",
          "text": [
            "23\n",
            "{'name': 'azim', 'university': 'cuet', 'country': 'Bangladesh'}\n"
          ],
          "name": "stdout"
        }
      ]
    },
    {
      "cell_type": "code",
      "metadata": {
        "id": "V8rhquir4IFN"
      },
      "source": [
        "#multidimenstional array in python and dimension conversion form 1D to 3D\n",
        "import numpy as np\n",
        "\n",
        "array1= np.array([[1,2,3,4,5,6],\n",
        "                  [3,5,6,7,7,8]\n",
        "])\n",
        "print(array1)\n",
        "array2= array1.flatten()\n",
        "print('1D=',array2)\n",
        "array3= array2.reshape(3,4)\n",
        "print(array3)\n",
        "# print the array element\n",
        "for i in range(0,3):\n",
        "  for j in range(0,4):\n",
        "     print(array3[i][j])\n",
        "  array4= array3.reshape(3,4)\n",
        "  print(array4)"
      ],
      "execution_count": null,
      "outputs": []
    },
    {
      "cell_type": "code",
      "metadata": {
        "id": "BA7jBRb65_Eb"
      },
      "source": [
        "#matrix in python\n",
        "import numpy as np\n",
        "m1=([1,2,4],[2,3,4],[6,7,8])\n",
        "m2=([9,6,4],[1,8,4],[3,4,6])\n",
        "#print(m1)\n",
        "#print(m2)\n",
        "result=np.subtract(m1,m2)\n",
        "print(result)\n",
        "# multiplication\n",
        "result=np.dot(m1,m2)  # multiplication use dot this is for matrix multiplicaton\n",
        "print(result)\n",
        "result=np.multiply(m1,m2) # this is not matrix multiplication, its element wise multiply\n",
        "print(result)"
      ],
      "execution_count": null,
      "outputs": []
    },
    {
      "cell_type": "code",
      "metadata": {
        "colab": {
          "base_uri": "https://localhost:8080/"
        },
        "id": "OzykJs08Q5K4",
        "outputId": "a8920609-0b44-4a78-dc57-353453712195"
      },
      "source": [
        "#zip function in python; you combine to list by zim\n",
        "p1=['azim','staup','sip','tamim']\n",
        "p2=[23, 12, 3, 44]\n",
        "combine_two_list=list(zip('1234',p1,p2))\n",
        "print(combine_two_list)\n",
        "# now unzip\n",
        "allinfo=[('1', 'azim', 23), ('2', 'staup', 12), ('3', 'sip', 3), ('4', 'tamim', 44)]\n",
        "unzip_all_info= list(zip(*allinfo))\n",
        "print(unzip_all_info)\n",
        "serial=unzip_all_info[0]\n",
        "name=unzip_all_info[1]\n",
        "age=unzip_all_info[2]\n",
        "print('serial',serial)\n",
        "print('name',name)\n",
        "print('age',age)\n"
      ],
      "execution_count": null,
      "outputs": [
        {
          "output_type": "stream",
          "text": [
            "[('1', 'azim', 23), ('2', 'staup', 12), ('3', 'sip', 3), ('4', 'tamim', 44)]\n",
            "[('1', '2', '3', '4'), ('azim', 'staup', 'sip', 'tamim'), (23, 12, 3, 44)]\n",
            "serial ('1', '2', '3', '4')\n",
            "name ('azim', 'staup', 'sip', 'tamim')\n",
            "age (23, 12, 3, 44)\n"
          ],
          "name": "stdout"
        }
      ]
    },
    {
      "cell_type": "code",
      "metadata": {
        "id": "wxPkrbrmS0qo"
      },
      "source": [
        "# lambda function in python, lambda can take many argument; funtion without name\n",
        "#structure: f= lambda a : a * a\n",
        "#f= is function object or variable that accepts and stores the result of the expression\n",
        "# lambda is keyword\n",
        "# a is the argument\n",
        "# a *a one line expressio\n",
        "#normal function and lambda function\n",
        "def mul(x,y,z):\n",
        "   return x*y*z\n",
        "result= mul(3,4,5)\n",
        "print(result)\n",
        "# now using lambda function\n",
        "result=(lambda x,y,z : x*y*z )(3,4,5)\n",
        "print(result)\n"
      ],
      "execution_count": null,
      "outputs": []
    },
    {
      "cell_type": "code",
      "metadata": {
        "id": "rF6ioFLNVMhl"
      },
      "source": [
        "# map functio in python language, map can take parameter or iterable object of other function\n",
        "# using normal function\n",
        "def mul_five_times(number):\n",
        "   return number * 5\n",
        "result=[]\n",
        "num=[2,3,4,5,6,7,8,5]\n",
        "for i in num:\n",
        "  result.append(mul_five_times(i)) # using append you can add value in list\n",
        "print(result)\n",
        "# now using map function\n",
        "def mul_five_times(number):\n",
        "   return number * 5\n",
        "num=[2,3,4,5,6,7,8,5]\n",
        "y=list(map(mul_five_times, num))\n",
        "print(y)\n"
      ],
      "execution_count": null,
      "outputs": []
    },
    {
      "cell_type": "code",
      "metadata": {
        "id": "u_19V_hiXBTc"
      },
      "source": [
        "# filter function; iterable object means list from list you can filet any vaule by filter fucntion\n",
        "num=[1,2,3,4,5,6,7,8,9,-9,6]\n",
        "result= list(filter((lambda n: n%2),num))\n",
        "print('the odd number', result)\n"
      ],
      "execution_count": null,
      "outputs": []
    },
    {
      "cell_type": "code",
      "metadata": {
        "id": "LhBU4-i1ZZn6"
      },
      "source": [
        "# reduce function in python; like math functin\n",
        "import functools\n",
        "def add_two_values(num1, num2):\n",
        "  return num1+num2\n",
        "lis=[3,4,3,6,7]\n",
        "result= functools.reduce(add_two_values, lis)\n",
        "print(result)"
      ],
      "execution_count": null,
      "outputs": []
    },
    {
      "cell_type": "code",
      "metadata": {
        "id": "wBo-AHMva0s_"
      },
      "source": [
        "# local and global variable ; to change global variable write global\n",
        "x=100  # this x is global variable\n",
        "def some_func():\n",
        "  #global x # dont use it\n",
        "  y= x+50   # this x is local variabl\n",
        "  print('inside', y)\n",
        "  print(id(y))\n",
        "some_func()\n",
        "print('outside', x) # here x is global \n",
        "print(id(x))\n",
        "def abd():\n",
        "  x=200   #now this is local variable x\n",
        "  print('another for', x)\n",
        "  print(id(x))\n",
        "abd()"
      ],
      "execution_count": null,
      "outputs": []
    },
    {
      "cell_type": "code",
      "metadata": {
        "id": "S7MreuRhbxIr"
      },
      "source": [
        "# default parameter\n",
        "def mypower(a,b=5):\n",
        "  return pow(a,b)\n",
        "x=mypower(2,3)\n",
        "print(x)\n",
        "# using string\n",
        "def name(x='azim'):\n",
        "  print('my name is ', x)\n",
        "name(\"azimmma\")"
      ],
      "execution_count": null,
      "outputs": []
    },
    {
      "cell_type": "code",
      "metadata": {
        "colab": {
          "base_uri": "https://localhost:8080/"
        },
        "id": "YwhbAsTY7mB8",
        "outputId": "0dbe6473-17a3-482d-b43a-808f060426d6"
      },
      "source": [
        "# recurrsion in python; is a process of calling a function\n",
        "def myfact(x):\n",
        "  if x==0:\n",
        "    return 1\n",
        "  return x*myfact(x-1)\n",
        "result=myfact(4)\n",
        "print(result)\n"
      ],
      "execution_count": null,
      "outputs": [
        {
          "output_type": "stream",
          "text": [
            "24\n"
          ],
          "name": "stdout"
        }
      ]
    },
    {
      "cell_type": "code",
      "metadata": {
        "colab": {
          "base_uri": "https://localhost:8080/"
        },
        "id": "Zfo4OqyVD0ZY",
        "outputId": "53acea89-ef2e-4d80-a198-8528abfb4545"
      },
      "source": [
        "from google.colab import drive\n",
        "drive.mount('/gdrive')\n",
        "%cd /gdrive"
      ],
      "execution_count": null,
      "outputs": [
        {
          "output_type": "stream",
          "text": [
            "Mounted at /gdrive\n",
            "/gdrive\n"
          ],
          "name": "stdout"
        }
      ]
    },
    {
      "cell_type": "code",
      "metadata": {
        "id": "eTUng4eDBL-o"
      },
      "source": [
        "from gtts import gTTS\n",
        "import os\n",
        "fil = open('my_text.txt',\"r\")\n",
        "mytext=fil.read().replace(\"\\n\", \"  \")\n",
        "language='en'\n",
        "output=gTTS(text=mytext, lang=language, slow= False)\n",
        "output.save('output.mp3')\n",
        "fil.close()\n",
        "os.system(\"start output.mp3\")"
      ],
      "execution_count": null,
      "outputs": []
    },
    {
      "cell_type": "code",
      "metadata": {
        "colab": {
          "base_uri": "https://localhost:8080/"
        },
        "id": "9vFnwx0PFYQq",
        "outputId": "19fad319-396e-4a80-fed8-152e41157d2e"
      },
      "source": [
        "import statistics\n",
        "list=[1,4,5,6,9,10,8,8,8,8]\n",
        "av= statistics.mean(list)\n",
        "mad=statistics.median(list)\n",
        "pra=statistics.mode(list)\n",
        "print(av)\n",
        "print(mad)\n",
        "print(pra)"
      ],
      "execution_count": null,
      "outputs": [
        {
          "output_type": "stream",
          "text": [
            "6.7\n",
            "8.0\n",
            "8\n"
          ],
          "name": "stdout"
        }
      ]
    },
    {
      "cell_type": "code",
      "metadata": {
        "colab": {
          "base_uri": "https://localhost:8080/"
        },
        "id": "tqQjZ6EYIHoh",
        "outputId": "89cf3c2b-9d32-4291-d91a-915442977d33"
      },
      "source": [
        "import numpy as np\n",
        "import statistics\n",
        "num= np.random.randint(5, 50,20)\n",
        "print(num)\n",
        "result=np.max(num)-np.min(num)\n",
        "print(result)"
      ],
      "execution_count": null,
      "outputs": [
        {
          "output_type": "stream",
          "text": [
            "[22  9 45 35 40 33 43 15 47 35 10 30 46 31 40 38  8 43 47 43]\n",
            "39\n"
          ],
          "name": "stdout"
        }
      ]
    },
    {
      "cell_type": "code",
      "metadata": {
        "colab": {
          "base_uri": "https://localhost:8080/"
        },
        "id": "exbLR-DRKRWX",
        "outputId": "69da1ae5-e036-45ee-c645-063aff6a7fb2"
      },
      "source": [
        "import numpy as np\n",
        "import statistics\n",
        "dataset=[2,3,4,5,6,7,8]\n",
        "print(statistics.median(dataset))\n",
        "Q1=np.percentile(dataset,25)\n",
        "Q2=np.percentile(dataset,50)\n",
        "Q3=np.percentile(dataset,75)\n",
        "print(Q1)\n",
        "print(Q2)\n",
        "print(Q3)"
      ],
      "execution_count": null,
      "outputs": [
        {
          "output_type": "stream",
          "text": [
            "5\n",
            "3.5\n",
            "5.0\n",
            "6.5\n"
          ],
          "name": "stdout"
        }
      ]
    },
    {
      "cell_type": "code",
      "metadata": {
        "colab": {
          "base_uri": "https://localhost:8080/"
        },
        "id": "9YgikZr_NtHJ",
        "outputId": "c06d0a27-856a-4f36-d766-22698edd1d77"
      },
      "source": [
        "# variance in statistics; how far data is from the center\n",
        "import numpy as np\n",
        "population=np.random.rand(40)\n",
        "sample=np.random.choice(population,20)\n",
        "var_p=np.var(population)\n",
        "var_s=np.var(sample)\n",
        "print(var_p)\n",
        "print(var_s)\n"
      ],
      "execution_count": null,
      "outputs": [
        {
          "output_type": "stream",
          "text": [
            "0.07684734553271069\n",
            "0.08790469869438498\n"
          ],
          "name": "stdout"
        }
      ]
    },
    {
      "cell_type": "code",
      "metadata": {
        "colab": {
          "base_uri": "https://localhost:8080/"
        },
        "id": "qs9x80XBVp9Z",
        "outputId": "c90a04b7-f4ea-4183-cec5-44a54717c3ca"
      },
      "source": [
        "#standard_devition\n",
        "import numpy as np\n",
        "pop=np.random.rand(30)\n",
        "samp=np.random.choice(pop,20)\n",
        "std_pop=np.std(pop)\n",
        "std_samp=np.std(samp)\n",
        "print(std_pop)\n",
        "print(std_samp)"
      ],
      "execution_count": null,
      "outputs": [
        {
          "output_type": "stream",
          "text": [
            "0.29108953482468986\n",
            "0.3160414960526296\n"
          ],
          "name": "stdout"
        }
      ]
    },
    {
      "cell_type": "code",
      "metadata": {
        "id": "lNtuSPj0W9bS",
        "colab": {
          "base_uri": "https://localhost:8080/"
        },
        "outputId": "f50d044e-41a3-4ca6-d0f5-5a0d3d29e70d"
      },
      "source": [
        "age=[10,20,0,30,40,50,0,40]\n",
        "sum=0\n",
        "if 0 in age:\n",
        "  for i in age:\n",
        "    sum=sum+i\n",
        "    mean=sum/(len(age)-1)\n",
        "print(mean)"
      ],
      "execution_count": null,
      "outputs": [
        {
          "output_type": "stream",
          "text": [
            "27.142857142857142\n"
          ],
          "name": "stdout"
        }
      ]
    },
    {
      "cell_type": "code",
      "metadata": {
        "colab": {
          "base_uri": "https://localhost:8080/"
        },
        "id": "lItexA-6wXB0",
        "outputId": "28cb0557-bd67-4dc0-90f0-a09371b1c2d6"
      },
      "source": [
        "if 0 in age:\n",
        "  age.remove(0)\n",
        "  age.append(mean)\n",
        "print(age)"
      ],
      "execution_count": null,
      "outputs": [
        {
          "output_type": "stream",
          "text": [
            "[10, 20, 27.142857142857142, 30, 40, 50, 0, 40, 27.142857142857142, 27.142857142857142]\n"
          ],
          "name": "stdout"
        }
      ]
    },
    {
      "cell_type": "code",
      "metadata": {
        "colab": {
          "base_uri": "https://localhost:8080/"
        },
        "id": "MBPJ6izawedV",
        "outputId": "8919db06-0d20-4c6f-8e5a-784d52308c3b"
      },
      "source": [
        "age=[50,29,0,21,40,10,30,0,0,0,1]\n",
        "sum=0\n",
        "count=[]\n",
        "for j in age:\n",
        "  sum=sum+j\n",
        "  if j==0:\n",
        "    count.append(j)\n",
        "  mean=sum/(len(age)-len(count))\n",
        "for i in range(len(age)):\n",
        "  if age[i]==0:\n",
        "    age[i]=mean\n",
        "print(age)"
      ],
      "execution_count": null,
      "outputs": [
        {
          "output_type": "stream",
          "text": [
            "[50, 29, 25.857142857142858, 21, 40, 10, 30, 25.857142857142858, 25.857142857142858, 25.857142857142858, 1]\n"
          ],
          "name": "stdout"
        }
      ]
    },
    {
      "cell_type": "code",
      "metadata": {
        "colab": {
          "base_uri": "https://localhost:8080/"
        },
        "id": "PaBxggha11Z2",
        "outputId": "01c7a51d-79a0-4803-8167-712289370b3b"
      },
      "source": [
        "age=[50,29,0,21,40,10,30]\n",
        "zero_value=0\n",
        "sum=0\n",
        "if 0 in age:\n",
        "  for i in age:\n",
        "    sum=sum+i;\n",
        "    c= len(age)\n",
        "    d=c-1\n",
        "    mean=sum/d\n",
        "print(mean)\n",
        "new_age=append.age[2]\n",
        "    "
      ],
      "execution_count": null,
      "outputs": [
        {
          "output_type": "stream",
          "text": [
            "7\n",
            "30.0\n"
          ],
          "name": "stdout"
        }
      ]
    }
  ]
}